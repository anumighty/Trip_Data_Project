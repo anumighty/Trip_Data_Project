{
 "cells": [
  {
   "cell_type": "markdown",
   "metadata": {},
   "source": [
    "# QUESTION 1"
   ]
  },
  {
   "cell_type": "code",
   "execution_count": 1,
   "metadata": {},
   "outputs": [
    {
     "name": "stdout",
     "output_type": "stream",
     "text": [
      "Datetime Range: 2013-03-01 00:00:00  to  2013-03-31 00:00:00 \n",
      "Number of Rows: 15749228\n"
     ]
    }
   ],
   "source": [
    "# Datetine range\n",
    "import csv, time,datetime\n",
    "fn = 'trip_data_3.csv'\n",
    "f = open(fn,'r')\n",
    "reader = csv.reader(f)\n",
    "n=0\n",
    "mindate = None\n",
    "maxdate = None\n",
    "\n",
    "for i, row in enumerate(reader):\n",
    "    if i==0:continue  #Skip header\n",
    "    n += 1 # row count\n",
    "    dts = row[5].split()[0]\n",
    "    dto = None\n",
    "    try:\n",
    "        dto = datetime.datetime.strptime(dts, \"%Y-%m-%d\")\n",
    "    except Exception as e:\n",
    "        print(e)\n",
    "    if dto is not None:\n",
    "        if i == 1:\n",
    "            mindate = dto\n",
    "            maxdate = dto\n",
    "        elif dto < mindate:\n",
    "            mindate = dto\n",
    "        elif dto > maxdate:\n",
    "            maxdate = dto\n",
    "print('Datetime Range:', mindate,' to ', maxdate, '\\nNumber of Rows:', n)\n",
    "f.close()"
   ]
  },
  {
   "cell_type": "markdown",
   "metadata": {},
   "source": [
    "# QUESTION 2"
   ]
  },
  {
   "cell_type": "code",
   "execution_count": 2,
   "metadata": {},
   "outputs": [
    {
     "name": "stdout",
     "output_type": "stream",
     "text": [
      "Field Names | Description\n",
      "------ | ------\n",
      "medallion|-\n",
      " hack_license|-\n",
      " vendor_id|-\n",
      " rate_code|-\n",
      " store_and_fwd_flag|-\n",
      " pickup_datetime|-\n",
      " dropoff_datetime|-\n",
      " passenger_count|-\n",
      " trip_time_in_secs|-\n",
      " trip_distance|-\n",
      " pickup_longitude|-\n",
      " pickup_latitude|-\n",
      " dropoff_longitude|-\n",
      " dropoff_latitude|-\n",
      "\n"
     ]
    }
   ],
   "source": [
    "#Field names\n",
    "import csv, time,datetime\n",
    "fn = 'trip_data_3.csv'\n",
    "f = open(fn,'r')\n",
    "reader = csv.reader(f)\n",
    "\n",
    "ss = 'Field Names | Description\\n------ | ------\\n'\n",
    "for row in reader:\n",
    "    for field in row:\n",
    "        ss+=field+'|-\\n'\n",
    "    break\n",
    "print(ss)\n",
    "f.close()"
   ]
  },
  {
   "cell_type": "markdown",
   "metadata": {},
   "source": [
    "# QUESTION 3"
   ]
  },
  {
   "cell_type": "code",
   "execution_count": 23,
   "metadata": {},
   "outputs": [
    {
     "name": "stdout",
     "output_type": "stream",
     "text": [
      "Field Names | Sample Data\n",
      "-- | --\n",
      "medallion|FE7B354FEB67B9C94BD34EA54469691C\n",
      " hack_license|2C78614ADC9C602EC70D65CCB4E63B14\n",
      " vendor_id|CMT\n",
      " rate_code|1\n",
      " store_and_fwd_flag|N\n",
      " pickup_datetime|2013-03-01 00:00:04\n",
      " dropoff_datetime|2013-03-01 00:19:03\n",
      " passenger_count|1\n",
      " trip_time_in_secs|1138\n",
      " trip_distance|14.30\n",
      " pickup_longitude|-73.776703\n",
      " pickup_latitude|40.645164\n",
      " dropoff_longitude|-73.913925\n",
      " dropoff_latitude|40.772614\n",
      "\n"
     ]
    }
   ],
   "source": [
    "#Field names\n",
    "import csv, time,datetime\n",
    "fn = 'trip_data_3.csv'\n",
    "f = open(fn,'r')\n",
    "reader = csv.reader(f)\n",
    "dic =  []\n",
    "ss = 'Field Names | Sample Data\\n-- | --\\n'\n",
    "for i, row in enumerate(reader):\n",
    "    if i==0:\n",
    "        dic=row\n",
    "    if i==1:\n",
    "        for e in range(len(dic)):\n",
    "            ss+=dic[e]+'|'+row[e]+'\\n'\n",
    "        break\n",
    "print(ss)\n",
    "f.close()"
   ]
  },
  {
   "cell_type": "markdown",
   "metadata": {},
   "source": [
    "# QUESTION 4"
   ]
  },
  {
   "cell_type": "code",
   "execution_count": 4,
   "metadata": {},
   "outputs": [
    {
     "name": "stdout",
     "output_type": "stream",
     "text": [
      "Field Names | Sample Data\n",
      "------ | ------\n",
      "medallion|varchar(32)\n",
      " hack_license|varchar(32)\n",
      " vendor_id|varchar(3)\n",
      " rate_code|int(3)\n",
      " store_and_fwd_flag|varchar(1)\n",
      " pickup_datetime|datetime\n",
      " dropoff_datetime|datetime\n",
      " passenger_count|int(3)\n",
      " trip_time_in_secs|int(5)\n",
      " trip_distance|decimal(4,2)\n",
      " pickup_longitude|decimal(12,11)\n",
      " pickup_latitude|decimal(11,10)\n",
      " dropoff_longitude|decimal(12,11)\n",
      " dropoff_latitude|decimal(11,10)\n",
      "\n"
     ]
    }
   ],
   "source": [
    "import csv, time,datetime\n",
    "\n",
    "def getCount(e):\n",
    "    i,max_len, dec_len=0,0,0\n",
    "    f = open(fn,'r')\n",
    "    reader = csv.reader(f)\n",
    "    for row in reader:\n",
    "        i+=1\n",
    "        if i==1:continue\n",
    "        if '.' in row[e]:\n",
    "            val1=len(str(float(row[e])).replace('.','').replace('-','')) #before the decimal point\n",
    "            val2=len(str(float(row[e])).split('.')[1]) # after the decimal point\n",
    "            if max_len < val1:\n",
    "                max_len=val1\n",
    "            if dec_len < val2:\n",
    "                dec_len=val2\n",
    "    return '('+str(max_len)+','+str(dec_len)+')'\n",
    "\n",
    "def getCount2(e,d_type):\n",
    "    i, max_len=0,0\n",
    "    f = open(fn,'r')\n",
    "    reader = csv.reader(f)\n",
    "    for row in reader:\n",
    "        i+=1\n",
    "        if i==1:continue\n",
    "        if d_type=='int':\n",
    "            val=len(row[e].replace('-',''))\n",
    "            if max_len < val:\n",
    "                max_len = val\n",
    "        elif d_type=='var':\n",
    "            val=len(row[e])\n",
    "            if max_len < val:\n",
    "                max_len = val\n",
    "    return '('+str(max_len)+')'\n",
    "\n",
    "\n",
    "fn = 'trip_data_3.csv'\n",
    "f = open(fn,'r')\n",
    "reader = csv.reader(f)\n",
    "field_names=[]\n",
    "d_type=''\n",
    "for i, row in enumerate(reader):\n",
    "    if i==2:break\n",
    "    if i==0:\n",
    "        field_names=row\n",
    "        continue\n",
    "    ss = 'Field Names | Sample Data\\n------ | ------\\n'\n",
    "    if i==1:\n",
    "        for e in range(len(row)):\n",
    "            try:\n",
    "                dto = datetime.datetime.strptime(row[e].replace(' ',':'), \"%Y-%m-%d:%H:%M:%S\")\n",
    "                d_type='datetime'\n",
    "            except Exception as k:\n",
    "                if '.' in row[e]: # is decimal\n",
    "                    count = getCount(e)\n",
    "                    d_type='decimal'+count\n",
    "                else:\n",
    "                    try:\n",
    "                        val=int(row[e])\n",
    "                        count = getCount2(e,'int')\n",
    "                        d_type='int'+count\n",
    "                    except Exception as k:\n",
    "                        count = getCount2(e,'var')\n",
    "                        d_type='varchar'+count\n",
    "            ss+=field_names[e]+'|'+d_type+'\\n'\n",
    "print(ss)\n",
    "f.close()"
   ]
  },
  {
   "cell_type": "markdown",
   "metadata": {},
   "source": [
    "# QUESTION 5"
   ]
  },
  {
   "cell_type": "code",
   "execution_count": 5,
   "metadata": {},
   "outputs": [
    {
     "name": "stdout",
     "output_type": "stream",
     "text": [
      "Coordinate | Min | Max | Range\n",
      "----- | --- | --- | ---\n",
      "Longitude|-79.73333|-71.800003|7.933326999999991\n",
      "Latitude|40.477325|44.983334|4.506008999999999\n",
      "\n"
     ]
    }
   ],
   "source": [
    "# 5.\tWhat is the geographic range of your data (min/max - X/Y)?\n",
    "# a.\tPlot this (approximately on a map)\n",
    "\n",
    "import csv, time,datetime\n",
    "fn = 'trip_data_3.csv'\n",
    "ss = 'Coordinate | Min | Max | Range\\n----- | --- | --- | ---\\n'\n",
    "min_lon, min_lat, max_lon, max_lat=100.0,100.0,-180,0.0\n",
    "\n",
    "i, min_, max_=0,100,0\n",
    "f = open(fn,'r')\n",
    "reader = csv.reader(f)\n",
    "for row in reader:\n",
    "    i+=1\n",
    "    if i==1:continue\n",
    "    val1=float(row[10])\n",
    "    val2=float(row[11])\n",
    "    #validate\n",
    "    if not float(-79.7624)<=val1<=float(-71.7517): continue\n",
    "    if not float(40.4772)<=val2<=float(45.0153): continue\n",
    "#         \"min_lat\": 40.4772,\n",
    "#     \"max_lat\": 45.0153,\n",
    "#     \"min_lng\": -79.7624,\n",
    "#     \"max_lng\": -71.7517\n",
    "        \n",
    "    if min_lon > val1:\n",
    "        min_lon=val1\n",
    "#         print('min lon', row[10],row[11])\n",
    "    if max_lon < val1:\n",
    "        max_lon=val1\n",
    "#         print('max lon', row[10],row[11])\n",
    "    if min_lat > val2:\n",
    "        min_lat=val2\n",
    "#         print('min lat', row[10],row[11])\n",
    "    if max_lat < val2:\n",
    "        max_lat=val2\n",
    "#         print('max lat', row[10],row[11])\n",
    "ss+='Longitude|'+str(min_lon)+'|'+str(max_lon)+'|'+str(max_lon-min_lon)+'\\n'\n",
    "ss+='Latitude|'+str(min_lat)+'|'+str(max_lat)+'|'+str(max_lat-min_lat)+'\\n'\n",
    "f.close()\n",
    "print(ss)"
   ]
  },
  {
   "cell_type": "markdown",
   "metadata": {},
   "source": [
    "# QUESTION 6"
   ]
  },
  {
   "cell_type": "code",
   "execution_count": 24,
   "metadata": {},
   "outputs": [
    {
     "data": {
      "image/png": "[encoded data removed]",
      "text/plain": [
       "<Figure size 432x288 with 1 Axes>"
      ]
     },
     "metadata": {
      "needs_background": "light"
     },
     "output_type": "display_data"
    },
    {
     "name": "stdout",
     "output_type": "stream",
     "text": [
      "Average Trip Distance 2.8414825431450907\n"
     ]
    }
   ],
   "source": [
    "import csv, time,datetime\n",
    "import matplotlib.pyplot as plt\n",
    "fn = 'trip_data_3.csv'\n",
    "f = open(fn,'r')\n",
    "reader = csv.reader(f)\n",
    "x,y=[],[]\n",
    "for i, row in enumerate(reader):\n",
    "    if i==0:continue\n",
    "    x.append(round(float(row[9])))\n",
    "    y.append(float(row[9]))\n",
    "plt.hist(x, density=False, bins=50)\n",
    "plt.ylabel('Count')\n",
    "plt.xlabel('Trip Distance')\n",
    "plt.show()\n",
    "\n",
    "avg = sum(y)/len(y)\n",
    "print('Average Trip Distance', avg)\n",
    "f.close()"
   ]
  },
  {
   "cell_type": "markdown",
   "metadata": {},
   "source": [
    "# QUESTION 8"
   ]
  },
  {
   "cell_type": "code",
   "execution_count": 30,
   "metadata": {},
   "outputs": [
    {
     "name": "stdout",
     "output_type": "stream",
     "text": [
      "Field Names | Min | Max | Comments\n",
      "----- | --- | ---|--\n",
      " rate_code|0|210|-\n",
      " passenger_count|0|9|-\n",
      " trip_time_in_secs|0|10800|-\n",
      "\n"
     ]
    }
   ],
   "source": [
    "import csv, time,datetime\n",
    "fn = 'trip_data_3.csv'\n",
    "ss = 'Field Names | Min | Max | Comments\\n----- | --- | ---|--\\n'\n",
    "for pos in [3,7,8,]:\n",
    "    f_n=''\n",
    "    i, min_, max_=0,100,0\n",
    "    f = open(fn,'r')\n",
    "    reader = csv.reader(f)\n",
    "    for row in reader:\n",
    "        i+=1\n",
    "        if i==1:\n",
    "            f_n=row[pos]\n",
    "            continue\n",
    "        val=int(row[pos])\n",
    "        if min_ > val:\n",
    "            min_=val\n",
    "        if max_ < val:\n",
    "            if pos==7:\n",
    "                if val<=9:\n",
    "                    max_=val\n",
    "            else:\n",
    "                max_=val    \n",
    "    ss+=f_n+'|'+str(min_)+'|'+str(max_)+'|-\\n'\n",
    "    f.close()\n",
    "print(ss)"
   ]
  },
  {
   "cell_type": "markdown",
   "metadata": {},
   "source": [
    "# QUESTION 9"
   ]
  },
  {
   "cell_type": "code",
   "execution_count": 34,
   "metadata": {},
   "outputs": [
    {
     "data": {
      "image/png": "[encoded data removed]",
      "text/plain": [
       "<Figure size 432x288 with 1 Axes>"
      ]
     },
     "metadata": {
      "needs_background": "light"
     },
     "output_type": "display_data"
    }
   ],
   "source": [
    "import csv, time,datetime\n",
    "import matplotlib.pyplot as plt\n",
    "fn = 'trip_data_3.csv'\n",
    "f = open(fn,'r')\n",
    "reader = csv.reader(f)\n",
    "hrhist={}\n",
    "x,y=[],[]\n",
    "\n",
    "for i, row in enumerate(reader):\n",
    "    if i==0:continue  #Skip header\n",
    "    hr = int(row[5].split()[1].split(':')[0])\n",
    "    pass_count=int(row[7])\n",
    "    if hr in hrhist:\n",
    "        hrhist[hr].append(pass_count)\n",
    "    else:\n",
    "        hrhist[hr]=[pass_count]\n",
    "#         print('first',hrhist)\n",
    "for k,v in hrhist.items():\n",
    "    x.append(k)\n",
    "    y.append(sum(v)/len(v))\n",
    "plt.bar(x,y)\n",
    "plt.ylabel('Avg No of Passengers')\n",
    "plt.xlabel('Hour of the Day')\n",
    "plt.title('Avg Passengers Per Hour (Full Data)')\n",
    "plt.show()\n",
    "f.close()"
   ]
  },
  {
   "cell_type": "markdown",
   "metadata": {},
   "source": [
    "# QUESTION 10"
   ]
  },
  {
   "cell_type": "code",
   "execution_count": 33,
   "metadata": {},
   "outputs": [
    {
     "name": "stdout",
     "output_type": "stream",
     "text": [
      "The subset data has 15749 rows\n"
     ]
    }
   ],
   "source": [
    "import csv, time,datetime\n",
    "fn = 'trip_data_3.csv'\n",
    "f = open(fn,'r')\n",
    "reader = csv.reader(f)\n",
    "\n",
    "f2 = open('trip_data_3_subset.csv','w')\n",
    "writer = csv.writer(f2,delimiter=',',lineterminator='\\n')\n",
    "for i, row in enumerate(reader):\n",
    "    if i==0:\n",
    "        writer.writerow(row) #Write field names\n",
    "        continue\n",
    "    if i%1000==0:\n",
    "        writer.writerow(row)\n",
    "f.close()\n",
    "f2.close()\n",
    "\n",
    "#Check max row of the subset data\n",
    "fn = 'trip_data_3_subset.csv'\n",
    "f = open(fn,'r')\n",
    "n=0\n",
    "reader = csv.reader(f)\n",
    "for i, row in enumerate(reader):\n",
    "    if i==0:continue # Skip the header row\n",
    "    n+=1\n",
    "print('The subset data has', n, 'rows')"
   ]
  },
  {
   "cell_type": "markdown",
   "metadata": {},
   "source": [
    "# QUESTION 11"
   ]
  },
  {
   "cell_type": "code",
   "execution_count": 12,
   "metadata": {},
   "outputs": [
    {
     "data": {
      "image/png": "[encoded data removed]",
      "text/plain": [
       "<Figure size 432x288 with 1 Axes>"
      ]
     },
     "metadata": {
      "needs_background": "light"
     },
     "output_type": "display_data"
    }
   ],
   "source": [
    "import csv, time,datetime\n",
    "import matplotlib.pyplot as plt\n",
    "fn = 'trip_data_3_subset.csv'\n",
    "f = open(fn,'r')\n",
    "reader = csv.reader(f)\n",
    "hrhist={}\n",
    "x,y=[],[]\n",
    "\n",
    "for i, row in enumerate(reader):\n",
    "    if i==0:continue  #Skip header\n",
    "    hr = int(row[5].split()[1].split(':')[0])\n",
    "    pass_count=int(row[7])\n",
    "    if hr in hrhist:\n",
    "        hrhist[hr].append(pass_count)\n",
    "    else:\n",
    "        hrhist[hr]=[pass_count]\n",
    "#         print('first',hrhist)\n",
    "for k,v in hrhist.items():\n",
    "    x.append(k)\n",
    "    y.append(sum(v)/len(v))\n",
    "plt.bar(x,y)\n",
    "plt.ylabel('Avg No of Passengers')\n",
    "plt.xlabel('Hour of the Day')\n",
    "plt.title('Avg Passengers Per Hour (Subset Data)')\n",
    "plt.show()\n",
    "f.close()"
   ]
  },
  {
   "cell_type": "code",
   "execution_count": null,
   "metadata": {},
   "outputs": [],
   "source": [
    "# # a.\tint(xx), varchar(xx),date,datetime,bool, decimal(m,d)\n",
    "# import csv, time,datetime\n",
    "# fn = 'trip_data_3.csv'\n",
    "# f = open(fn,'r')\n",
    "# reader = csv.reader(f)\n",
    "# field_names=[]\n",
    "# d_type=''\n",
    "# for i, row in enumerate(reader):\n",
    "#     if i==2:break\n",
    "#     if i==0:\n",
    "#         field_names=row\n",
    "#         continue\n",
    "#     ss = 'Field Names | Sample Data\\n------ | ------\\n'\n",
    "#     if i==1:\n",
    "#         for e in range(len(row)):\n",
    "#             try:\n",
    "#                 dto = datetime.datetime.strptime(row[e].replace(' ',':'), \"%Y-%m-%d:%H:%M:%S\")\n",
    "#                 d_type='datetime'\n",
    "#             except Exception as k:\n",
    "# #                 print(k)\n",
    "#                 if '.' in row[e]: # is decimal\n",
    "#                     d_type='decimal'\n",
    "# #                     d_type = 'decimal('+len(row[e],','+len(row[e].split('.')[1]))\n",
    "#                 else:\n",
    "#                     try:\n",
    "#                         val=int(row[e])\n",
    "#                         d_type='int'\n",
    "#                     except Exception as k:\n",
    "#                         d_type='varchar'\n",
    "#             ss+=field_names[e]+'|'+d_type+'\\n'\n",
    "# print(ss)\n",
    "                        \n",
    "                    \n",
    "                \n",
    "# # n='4'\n",
    "# # if isinstance(n, int):\n",
    "# #     print('is int')\n",
    "# # if isinstance(n, float):\n",
    "# #     print('is decimal')"
   ]
  },
  {
   "cell_type": "code",
   "execution_count": null,
   "metadata": {},
   "outputs": [],
   "source": [
    "# #Field names\n",
    "# import csv, time,datetime\n",
    "# fn = 'trip_data_3.csv'\n",
    "# for pos in range(9,10):\n",
    "#     i=0\n",
    "#     max_len, dec_len=0,0\n",
    "#     f = open(fn,'r')\n",
    "#     reader = csv.reader(f)\n",
    "#     for row in reader:\n",
    "#         i+=1\n",
    "#         if i==1:\n",
    "#             print(row[pos])\n",
    "#             continue\n",
    "#         if '.' in row[pos]:\n",
    "#             val1=len(str(row[pos]).replace('.','').replace('-','')) #before the decimal point\n",
    "#             val2=len(str(row[pos]).split('.')[1]) # after the decimal point\n",
    "#             if max_len < val1:\n",
    "#                 print('int',str(row[pos]))\n",
    "#                 max_len=val1\n",
    "#             if dec_len < val2:\n",
    "#                 print('dec',str(row[pos]))\n",
    "#                 dec_len=val2\n",
    "        \n",
    "#     print(pos, '('+str(max_len)+','+str(dec_len)+')')"
   ]
  },
  {
   "cell_type": "code",
   "execution_count": 29,
   "metadata": {},
   "outputs": [
    {
     "name": "stdout",
     "output_type": "stream",
     "text": [
      "[0, 1, 2, 3, 4, 5, 6, 7, 8, 9, 17, 210]\n"
     ]
    }
   ],
   "source": [
    "import csv, time,datetime\n",
    "fn = 'trip_data_3.csv'\n",
    "f = open(fn,'r')\n",
    "n=0\n",
    "d=[]\n",
    "reader = csv.reader(f)\n",
    "for i, row in enumerate(reader):\n",
    "    if i==0:continue\n",
    "    if int(row[3]) not in d:\n",
    "        d.append(int(row[3]))\n",
    "print(sorted(d))\n",
    "#         print(row)\n",
    "#         continue\n",
    "#     if int(row[3])==0:\n",
    "#         print(row)\n",
    "#         break"
   ]
  },
  {
   "cell_type": "code",
   "execution_count": null,
   "metadata": {},
   "outputs": [],
   "source": [
    "import csv, time,datetime\n",
    "fn = 'trip_data_3.csv'\n",
    "f = open(fn,'r')\n",
    "n=0\n",
    "d=[]\n",
    "reader = csv.reader(f)\n",
    "for i, row in enumerate(reader):\n",
    "    if i==0:continue\n",
    "    if int(row[7]) > 9:\n",
    "        d.append(row[7])\n",
    "print(d)\n",
    "#         print(row)\n",
    "#         continue\n",
    "#     if int(row[3])==0:\n",
    "#         print(row)\n",
    "#         break"
   ]
  }
 ],
 "metadata": {
  "kernelspec": {
   "display_name": "Python 3",
   "language": "python",
   "name": "python3"
  },
  "language_info": {
   "codemirror_mode": {
    "name": "ipython",
    "version": 3
   },
   "file_extension": ".py",
   "mimetype": "text/x-python",
   "name": "python",
   "nbconvert_exporter": "python",
   "pygments_lexer": "ipython3",
   "version": "3.8.5"
  }
 },
 "nbformat": 4,
 "nbformat_minor": 4
}
