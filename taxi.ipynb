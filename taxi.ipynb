{
 "cells": [
  {
   "cell_type": "markdown",
   "metadata": {},
   "source": [
    "# QUESTION 1"
   ]
  },
  {
   "cell_type": "code",
   "execution_count": 47,
   "metadata": {},
   "outputs": [
    {
     "name": "stdout",
     "output_type": "stream",
     "text": [
      "Datetime Range: 2013-03-01 00:00:00  to  2013-04-01 01:16:32 \n",
      "Number of Rows: 15749228\n"
     ]
    }
   ],
   "source": [
    "# Datetine range\n",
    "import csv, time,datetime\n",
    "fn = 'trip_data_3.csv'\n",
    "f = open(fn,'r')\n",
    "reader = csv.reader(f)\n",
    "n=0\n",
    "mindate = None\n",
    "maxdate = None\n",
    "\n",
    "def update_dt(n, dto, mindate, maxdate):\n",
    "    if n == 1:\n",
    "        mindate = dto\n",
    "        maxdate = dto\n",
    "    elif dto < mindate:\n",
    "        mindate = dto\n",
    "    elif dto > maxdate:\n",
    "        maxdate = dto\n",
    "    return mindate, maxdate\n",
    "\n",
    "for i, row in enumerate(reader):\n",
    "    if i==0:continue  #Skip header\n",
    "    n += 1 # row count\n",
    "    p_dto, d_dto = None, None\n",
    "    p_dts = row[5].replace(' ',':')\n",
    "    d_dts = row[6].replace(' ',':')\n",
    "    try:\n",
    "        p_dto = datetime.datetime.strptime(p_dts, \"%Y-%m-%d:%H:%M:%S\")\n",
    "    except Exception as e:\n",
    "        print(e)\n",
    "    try:\n",
    "        d_dto = datetime.datetime.strptime(d_dts, \"%Y-%m-%d:%H:%M:%S\")\n",
    "    except Exception as e:\n",
    "        print(e)\n",
    "    if p_dto is not None:\n",
    "        mindate, maxdate = update_dt(n, p_dto, mindate, maxdate)\n",
    "    if d_dto is not None:\n",
    "        mindate, maxdate = update_dt(n, d_dto, mindate, maxdate)\n",
    "        \n",
    "print('Datetime Range:', mindate,' to ', maxdate, '\\nNumber of Rows:', n)\n",
    "f.close()"
   ]
  },
  {
   "cell_type": "markdown",
   "metadata": {},
   "source": [
    "# QUESTION 2"
   ]
  },
  {
   "cell_type": "code",
   "execution_count": 2,
   "metadata": {},
   "outputs": [
    {
     "name": "stdout",
     "output_type": "stream",
     "text": [
      "Field Names | Description\n",
      "------ | ------\n",
      "medallion|-\n",
      " hack_license|-\n",
      " vendor_id|-\n",
      " rate_code|-\n",
      " store_and_fwd_flag|-\n",
      " pickup_datetime|-\n",
      " dropoff_datetime|-\n",
      " passenger_count|-\n",
      " trip_time_in_secs|-\n",
      " trip_distance|-\n",
      " pickup_longitude|-\n",
      " pickup_latitude|-\n",
      " dropoff_longitude|-\n",
      " dropoff_latitude|-\n",
      "\n"
     ]
    }
   ],
   "source": [
    "#Field names\n",
    "import csv, time,datetime\n",
    "fn = 'trip_data_3.csv'\n",
    "f = open(fn,'r')\n",
    "reader = csv.reader(f)\n",
    "\n",
    "ss = 'Field Names | Description\\n------ | ------\\n'\n",
    "for row in reader:\n",
    "    for field in row:\n",
    "        ss+=field+'|-\\n'\n",
    "    break\n",
    "print(ss)\n",
    "f.close()"
   ]
  },
  {
   "cell_type": "markdown",
   "metadata": {},
   "source": [
    "# QUESTION 3"
   ]
  },
  {
   "cell_type": "code",
   "execution_count": 23,
   "metadata": {},
   "outputs": [
    {
     "name": "stdout",
     "output_type": "stream",
     "text": [
      "Field Names | Sample Data\n",
      "-- | --\n",
      "medallion|FE7B354FEB67B9C94BD34EA54469691C\n",
      " hack_license|2C78614ADC9C602EC70D65CCB4E63B14\n",
      " vendor_id|CMT\n",
      " rate_code|1\n",
      " store_and_fwd_flag|N\n",
      " pickup_datetime|2013-03-01 00:00:04\n",
      " dropoff_datetime|2013-03-01 00:19:03\n",
      " passenger_count|1\n",
      " trip_time_in_secs|1138\n",
      " trip_distance|14.30\n",
      " pickup_longitude|-73.776703\n",
      " pickup_latitude|40.645164\n",
      " dropoff_longitude|-73.913925\n",
      " dropoff_latitude|40.772614\n",
      "\n"
     ]
    }
   ],
   "source": [
    "#Field names\n",
    "import csv, time,datetime\n",
    "fn = 'trip_data_3.csv'\n",
    "f = open(fn,'r')\n",
    "reader = csv.reader(f)\n",
    "dic =  []\n",
    "ss = 'Field Names | Sample Data\\n-- | --\\n'\n",
    "for i, row in enumerate(reader):\n",
    "    if i==0:\n",
    "        dic=row\n",
    "    if i==1:\n",
    "        for e in range(len(dic)):\n",
    "            ss+=dic[e]+'|'+row[e]+'\\n'\n",
    "        break\n",
    "print(ss)\n",
    "f.close()"
   ]
  },
  {
   "cell_type": "markdown",
   "metadata": {},
   "source": [
    "# QUESTION 4"
   ]
  },
  {
   "cell_type": "code",
   "execution_count": 4,
   "metadata": {},
   "outputs": [
    {
     "name": "stdout",
     "output_type": "stream",
     "text": [
      "Field Names | Sample Data\n",
      "------ | ------\n",
      "medallion|varchar(32)\n",
      " hack_license|varchar(32)\n",
      " vendor_id|varchar(3)\n",
      " rate_code|int(3)\n",
      " store_and_fwd_flag|varchar(1)\n",
      " pickup_datetime|datetime\n",
      " dropoff_datetime|datetime\n",
      " passenger_count|int(3)\n",
      " trip_time_in_secs|int(5)\n",
      " trip_distance|decimal(4,2)\n",
      " pickup_longitude|decimal(12,11)\n",
      " pickup_latitude|decimal(11,10)\n",
      " dropoff_longitude|decimal(12,11)\n",
      " dropoff_latitude|decimal(11,10)\n",
      "\n"
     ]
    }
   ],
   "source": [
    "import csv, time,datetime\n",
    "\n",
    "def getCount(e):\n",
    "    i,max_len, dec_len=0,0,0\n",
    "    f = open(fn,'r')\n",
    "    reader = csv.reader(f)\n",
    "    for row in reader:\n",
    "        i+=1\n",
    "        if i==1:continue\n",
    "        if '.' in row[e]:\n",
    "            val1=len(str(float(row[e])).replace('.','').replace('-','')) #before the decimal point\n",
    "            val2=len(str(float(row[e])).split('.')[1]) # after the decimal point\n",
    "            if max_len < val1:\n",
    "                max_len=val1\n",
    "            if dec_len < val2:\n",
    "                dec_len=val2\n",
    "    return '('+str(max_len)+','+str(dec_len)+')'\n",
    "\n",
    "def getCount2(e,d_type):\n",
    "    i, max_len=0,0\n",
    "    f = open(fn,'r')\n",
    "    reader = csv.reader(f)\n",
    "    for row in reader:\n",
    "        i+=1\n",
    "        if i==1:continue\n",
    "        if d_type=='int':\n",
    "            val=len(row[e].replace('-',''))\n",
    "            if max_len < val:\n",
    "                max_len = val\n",
    "        elif d_type=='var':\n",
    "            val=len(row[e])\n",
    "            if max_len < val:\n",
    "                max_len = val\n",
    "    return '('+str(max_len)+')'\n",
    "\n",
    "\n",
    "fn = 'trip_data_3.csv'\n",
    "f = open(fn,'r')\n",
    "reader = csv.reader(f)\n",
    "field_names=[]\n",
    "d_type=''\n",
    "for i, row in enumerate(reader):\n",
    "    if i==2:break\n",
    "    if i==0:\n",
    "        field_names=row\n",
    "        continue\n",
    "    ss = 'Field Names | Sample Data\\n------ | ------\\n'\n",
    "    if i==1:\n",
    "        for e in range(len(row)):\n",
    "            try:\n",
    "                dto = datetime.datetime.strptime(row[e].replace(' ',':'), \"%Y-%m-%d:%H:%M:%S\")\n",
    "                d_type='datetime'\n",
    "            except Exception as k:\n",
    "                if '.' in row[e]: # is decimal\n",
    "                    count = getCount(e)\n",
    "                    d_type='decimal'+count\n",
    "                else:\n",
    "                    try:\n",
    "                        val=int(row[e])\n",
    "                        count = getCount2(e,'int')\n",
    "                        d_type='int'+count\n",
    "                    except Exception as k:\n",
    "                        count = getCount2(e,'var')\n",
    "                        d_type='varchar'+count\n",
    "            ss+=field_names[e]+'|'+d_type+'\\n'\n",
    "print(ss)\n",
    "f.close()"
   ]
  },
  {
   "cell_type": "markdown",
   "metadata": {},
   "source": [
    "# QUESTION 5"
   ]
  },
  {
   "cell_type": "code",
   "execution_count": 44,
   "metadata": {},
   "outputs": [
    {
     "name": "stdout",
     "output_type": "stream",
     "text": [
      "Coordinate | Min | Max | Range\n",
      "----- | --- | --- | ---\n",
      "Longitude|-79.73333|-71.800003|7.933326999999991\n",
      "Latitude|40.477215|44.983334|4.506118999999998\n",
      "\n"
     ]
    }
   ],
   "source": [
    "# 5.\tWhat is the geographic range of your data (min/max - X/Y)?\n",
    "# a.\tPlot this (approximately on a map)\n",
    "\n",
    "import csv, time,datetime\n",
    "fn = 'trip_data_3.csv'\n",
    "ss = 'Coordinate | Min | Max | Range\\n----- | --- | --- | ---\\n'\n",
    "min_lon, min_lat, max_lon, max_lat=100.0,100.0,-180,0.0\n",
    "\n",
    "\n",
    "def update_cord(lon, lat, min_lon, min_lat, max_lon, max_lat):\n",
    "    if min_lon > lon:\n",
    "        min_lon=lon\n",
    "    if max_lon < lon:\n",
    "        max_lon=lon\n",
    "    if min_lat > lat:\n",
    "        min_lat=lat\n",
    "    if max_lat < lat:\n",
    "        max_lat=lat\n",
    "    return min_lon, min_lat, max_lon, max_lat\n",
    "    \n",
    "i, min_, max_=0,100,0\n",
    "f = open(fn,'r')\n",
    "reader = csv.reader(f)\n",
    "for row in reader:\n",
    "    i+=1\n",
    "    if i==1:continue\n",
    "    p_lon=row[10]\n",
    "    p_lat=row[11]\n",
    "    d_lon=row[12]\n",
    "    d_lat=row[13]\n",
    "    if '.' in p_lon and '.' in p_lat: #it's a valid decimal\n",
    "        #validate lon & lat to be in NY region\n",
    "        if not float(-79.7624)<=float(p_lon)<=float(-71.7517): continue\n",
    "        if not float(40.4772)<=float(p_lat)<=float(45.0153): continue\n",
    "        min_lon, min_lat, max_lon, max_lat = update_cord(float(p_lon), float(p_lat), min_lon, min_lat, max_lon, max_lat)\n",
    "    \n",
    "    if '.' in d_lon and '.' in d_lat: #it's a valid decimal\n",
    "        #validate lon & lat to be in NY region\n",
    "        if not float(-79.7624)<=float(d_lon)<=float(-71.7517): continue\n",
    "        if not float(40.4772)<=float(d_lat)<=float(45.0153): continue\n",
    "        min_lon, min_lat, max_lon, max_lat = update_cord(float(d_lon), float(d_lat), min_lon, min_lat, max_lon, max_lat)\n",
    "        \n",
    "ss+='Longitude|'+str(min_lon)+'|'+str(max_lon)+'|'+str(max_lon-min_lon)+'\\n'\n",
    "ss+='Latitude|'+str(min_lat)+'|'+str(max_lat)+'|'+str(max_lat-min_lat)+'\\n'\n",
    "f.close()\n",
    "print(ss)"
   ]
  },
  {
   "cell_type": "markdown",
   "metadata": {},
   "source": [
    "# QUESTION 6"
   ]
  },
  {
   "cell_type": "code",
   "execution_count": 79,
   "metadata": {},
   "outputs": [
    {
     "name": "stdout",
     "output_type": "stream",
     "text": [
      "Trip Distance Range | Total count \n",
      "---|--\n",
      "0-50|15447054\n",
      "251-300|85\n",
      "51-100|233\n",
      "101-150|100\n",
      "201-250|85\n",
      "151-200|87\n",
      "351-400|1\n",
      "301-350|5\n",
      "\n",
      "Trip Distance | Value \n",
      "---|--\n",
      "Minimum|0.0\n",
      "Maximum|393.60494339271463\n",
      "Average|2.076935784621777\n",
      "\n"
     ]
    }
   ],
   "source": [
    "from math import radians, cos, sin, asin, sqrt\n",
    "import csv, time,datetime\n",
    "\n",
    "def haversine(lon1, lat1, lon2, lat2):\n",
    "    # convert decimal degrees to radians \n",
    "    lon1, lat1, lon2, lat2 = map(radians, [lon1, lat1, lon2, lat2])\n",
    "\n",
    "    # haversine formula \n",
    "    dlon = lon2 - lon1 \n",
    "    dlat = lat2 - lat1 \n",
    "    a = sin(dlat/2)**2 + cos(lat1) * cos(lat2) * sin(dlon/2)**2\n",
    "    c = 2 * asin(sqrt(a)) \n",
    "    r = 3956 # Radius of earth in miles\n",
    "    return c * r\n",
    "\n",
    "fn = 'trip_data_3.csv'\n",
    "f = open(fn,'r')\n",
    "reader = csv.reader(f)\n",
    "trip_d=[]\n",
    "dhist={}\n",
    "i = 0\n",
    "for row in reader:\n",
    "    i+=1\n",
    "    if i==1:continue # skip header row\n",
    "    p_lon=row[10]\n",
    "    p_lat=row[11]\n",
    "    d_lon=row[12]\n",
    "    d_lat=row[13]\n",
    "    if '.' in p_lon and '.' in p_lat and '.' in d_lon and '.' in d_lat: #it's a valid decimal\n",
    "        #ensure lon & lat are valid NY coordinates\n",
    "        if not float(-79.7624)<=float(p_lon)<=float(-71.7517): continue\n",
    "        if not float(40.4772)<=float(p_lat)<=float(45.0153): continue\n",
    "        if not float(-79.7624)<=float(d_lon)<=float(-71.7517): continue\n",
    "        if not float(40.4772)<=float(d_lat)<=float(45.0153): continue\n",
    "        dist = haversine(float(p_lon), float(p_lat), float(d_lon), float(d_lat))\n",
    "        trip_d.append(dist)\n",
    "\n",
    "for d in trip_d:\n",
    "    r = d//50\n",
    "    if r == float(0):\n",
    "        key='0-50'\n",
    "        if key in dhist:\n",
    "            dhist[key]+=1\n",
    "        else:\n",
    "            dhist[key]=1\n",
    "    else:\n",
    "        key=str(int(50.0*r)+1)+'-'+str(int(50.0*(r+1.0)))\n",
    "        if key in dhist:\n",
    "            dhist[key]+=1\n",
    "        else:\n",
    "            dhist[key]=1\n",
    "\n",
    "s = 'Trip Distance Range | Total count \\n---|--\\n'\n",
    "for k,v in dhist.items():\n",
    "    s+=str(k)+'|'+str(v)+'\\n'\n",
    "print(s)\n",
    "\n",
    "ss = 'Trip Distance | Value \\n---|--\\n'  \n",
    "ss+='Minimum|'+ str(min(trip_d))+'\\n'\n",
    "ss+='Maximum|'+str(max(trip_d))+'\\n'\n",
    "ss+='Average|'+str(sum(trip_d)/len(trip_d))+'\\n'\n",
    "print(ss)\n",
    "\n",
    "f.close()"
   ]
  },
  {
   "cell_type": "markdown",
   "metadata": {},
   "source": [
    "# QUESTION 7"
   ]
  },
  {
   "cell_type": "code",
   "execution_count": 78,
   "metadata": {},
   "outputs": [
    {
     "name": "stdout",
     "output_type": "stream",
     "text": [
      "Field Names | Distinct Values \n",
      "---|--\n",
      " vendor_id|'CMT', 'VTS'\n",
      " rate_code|'1', '2', '5', '3', '4', '6', '0', '210', '9', '7', '8', '17'\n",
      " store_and_fwd_flag|'N', 'Y', ''\n",
      " passenger_count|'1', '2', '4', '3', '5', '6', '0', '9', '7', '255'\n",
      "\n"
     ]
    }
   ],
   "source": [
    "import csv, time,datetime\n",
    "import matplotlib.pyplot as plt\n",
    "fn = 'trip_data_3.csv'\n",
    "\n",
    "hist={}\n",
    "for pos in range(14):\n",
    "    key=''\n",
    "    f = open(fn,'r')\n",
    "    reader = csv.reader(f)\n",
    "    for i, row in enumerate(reader):\n",
    "        if i==0:\n",
    "            key = row[pos]\n",
    "            hist[key]=[]\n",
    "            continue\n",
    "        content = row[pos]\n",
    "        if content not in hist[key]:\n",
    "            hist[key].append(content)\n",
    "        if len(hist[key]) > 20:\n",
    "            hist.pop(key, None)\n",
    "            break\n",
    "  \n",
    "s = 'Field Names | Distinct Values \\n---|--\\n'\n",
    "for k,v in hist.items():\n",
    "    s+=str(k)+'|'+str(v).replace('[','').replace(']','')+'\\n'\n",
    "print(s)\n",
    "f.close()"
   ]
  },
  {
   "cell_type": "markdown",
   "metadata": {},
   "source": [
    "# QUESTION 8"
   ]
  },
  {
   "cell_type": "code",
   "execution_count": 30,
   "metadata": {},
   "outputs": [
    {
     "name": "stdout",
     "output_type": "stream",
     "text": [
      "Field Names | Min | Max | Comments\n",
      "----- | --- | ---|--\n",
      " rate_code|0|210|-\n",
      " passenger_count|0|9|-\n",
      " trip_time_in_secs|0|10800|-\n",
      "\n"
     ]
    }
   ],
   "source": [
    "import csv, time,datetime\n",
    "fn = 'trip_data_3.csv'\n",
    "ss = 'Field Names | Min | Max | Comments\\n----- | --- | ---|--\\n'\n",
    "for pos in [3,7,8,]:\n",
    "    f_n=''\n",
    "    i, min_, max_=0,100,0\n",
    "    f = open(fn,'r')\n",
    "    reader = csv.reader(f)\n",
    "    for row in reader:\n",
    "        i+=1\n",
    "        if i==1:\n",
    "            f_n=row[pos]\n",
    "            continue\n",
    "        val=int(row[pos])\n",
    "        if min_ > val:\n",
    "            min_=val\n",
    "        if max_ < val:\n",
    "            if pos==7:\n",
    "                if val<=9:\n",
    "                    max_=val\n",
    "            else:\n",
    "                max_=val    \n",
    "    ss+=f_n+'|'+str(min_)+'|'+str(max_)+'|-\\n'\n",
    "    f.close()\n",
    "print(ss)"
   ]
  },
  {
   "cell_type": "markdown",
   "metadata": {},
   "source": [
    "# QUESTION 9"
   ]
  },
  {
   "cell_type": "code",
   "execution_count": 80,
   "metadata": {},
   "outputs": [],
   "source": [
    "import csv, time,datetime\n",
    "fn = 'trip_data_3.csv'\n",
    "f = open(fn,'r')\n",
    "reader = csv.reader(f)\n",
    "hrhist={}\n",
    "x,y=[],[]\n",
    "\n",
    "for i, row in enumerate(reader):\n",
    "    if i==0:continue  #Skip header\n",
    "    hr = int(row[5].split()[1].split(':')[0])\n",
    "    pass_count=int(row[7])\n",
    "    if hr in hrhist:\n",
    "        hrhist[hr].append(pass_count)\n",
    "    else:\n",
    "        hrhist[hr]=[pass_count]\n",
    "#         print('first',hrhist)\n",
    "for k,v in hrhist.items():\n",
    "    x.append(k)\n",
    "    y.append(sum(v)/29)\n",
    "\n",
    "f.close()"
   ]
  },
  {
   "cell_type": "markdown",
   "metadata": {},
   "source": [
    "# QUESTION 10"
   ]
  },
  {
   "cell_type": "code",
   "execution_count": 33,
   "metadata": {},
   "outputs": [
    {
     "name": "stdout",
     "output_type": "stream",
     "text": [
      "The subset data has 15749 rows\n"
     ]
    }
   ],
   "source": [
    "import csv, time,datetime\n",
    "fn = 'trip_data_3.csv'\n",
    "f = open(fn,'r')\n",
    "reader = csv.reader(f)\n",
    "\n",
    "f2 = open('trip_data_3_subset.csv','w')\n",
    "writer = csv.writer(f2,delimiter=',',lineterminator='\\n')\n",
    "for i, row in enumerate(reader):\n",
    "    if i==0:\n",
    "        writer.writerow(row) #Write field names\n",
    "        continue\n",
    "    if i%1000==0:\n",
    "        writer.writerow(row)\n",
    "f.close()\n",
    "f2.close()\n",
    "\n",
    "#Check max row of the subset data\n",
    "fn = 'trip_data_3_subset.csv'\n",
    "f = open(fn,'r')\n",
    "n=0\n",
    "reader = csv.reader(f)\n",
    "for i, row in enumerate(reader):\n",
    "    if i==0:continue # Skip the header row\n",
    "    n+=1\n",
    "print('The subset data has', n, 'rows')"
   ]
  },
  {
   "cell_type": "markdown",
   "metadata": {},
   "source": [
    "# QUESTION 11"
   ]
  },
  {
   "cell_type": "code",
   "execution_count": 46,
   "metadata": {},
   "outputs": [
    {
     "data": {
      "image/png": "[encoded data removed]",
      "text/plain": [
       "<Figure size 432x288 with 1 Axes>"
      ]
     },
     "metadata": {
      "needs_background": "light"
     },
     "output_type": "display_data"
    }
   ],
   "source": [
    "import csv, time,datetime\n",
    "fn = 'trip_data_3_subset.csv'\n",
    "f = open(fn,'r')\n",
    "reader = csv.reader(f)\n",
    "hrhist={}\n",
    "x,y=[],[]\n",
    "\n",
    "for i, row in enumerate(reader):\n",
    "    if i==0:continue  #Skip header\n",
    "    hr = int(row[5].split()[1].split(':')[0])\n",
    "    pass_count=int(row[7])\n",
    "    if hr in hrhist:\n",
    "        hrhist[hr].append(pass_count)\n",
    "    else:\n",
    "        hrhist[hr]=[pass_count]\n",
    "#         print('first',hrhist)\n",
    "for k,v in hrhist.items():\n",
    "    x.append(k)\n",
    "    y.append(sum(v)/29)\n",
    "\n",
    "f.close()"
   ]
  }
 ],
 "metadata": {
  "kernelspec": {
   "display_name": "Python 3",
   "language": "python",
   "name": "python3"
  },
  "language_info": {
   "codemirror_mode": {
    "name": "ipython",
    "version": 3
   },
   "file_extension": ".py",
   "mimetype": "text/x-python",
   "name": "python",
   "nbconvert_exporter": "python",
   "pygments_lexer": "ipython3",
   "version": "3.8.5"
  }
 },
 "nbformat": 4,
 "nbformat_minor": 4
}
